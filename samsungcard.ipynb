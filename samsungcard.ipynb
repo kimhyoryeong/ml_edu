{
  "nbformat": 4,
  "nbformat_minor": 0,
  "metadata": {
    "colab": {
      "name": "samsungcard",
      "provenance": [],
      "authorship_tag": "ABX9TyOCoIYlIsbytGltotq+jcYh",
      "include_colab_link": true
    },
    "kernelspec": {
      "name": "python3",
      "display_name": "Python 3"
    }
  },
  "cells": [
    {
      "cell_type": "markdown",
      "metadata": {
        "id": "view-in-github",
        "colab_type": "text"
      },
      "source": [
        "<a href=\"https://colab.research.google.com/github/kimhyoryeong/ml_edu/blob/master/samsungcard.ipynb\" target=\"_parent\"><img src=\"https://colab.research.google.com/assets/colab-badge.svg\" alt=\"Open In Colab\"/></a>"
      ]
    },
    {
      "cell_type": "markdown",
      "metadata": {
        "id": "xA7SKar0yfsV",
        "colab_type": "text"
      },
      "source": [
        "### 드라이브 연결 및 파일 불러오기\n"
      ]
    },
    {
      "cell_type": "code",
      "metadata": {
        "id": "SlOsEkoZ4lIu",
        "colab_type": "code",
        "colab": {
          "base_uri": "https://localhost:8080/",
          "height": 357
        },
        "outputId": "c3990028-0a7a-493f-c61c-f17803d67b7b"
      },
      "source": [
        "!sudo apt-get install -y fonts-nanum\n",
        "!sudo fc-cache -fv\n",
        "!rm ~/.cache/matplotlib -rf\n",
        "#폰트 깨짐 처리"
      ],
      "execution_count": null,
      "outputs": [
        {
          "output_type": "stream",
          "text": [
            "Reading package lists... Done\n",
            "Building dependency tree       \n",
            "Reading state information... Done\n",
            "fonts-nanum is already the newest version (20170925-1).\n",
            "The following package was automatically installed and is no longer required:\n",
            "  libnvidia-common-440\n",
            "Use 'sudo apt autoremove' to remove it.\n",
            "0 upgraded, 0 newly installed, 0 to remove and 39 not upgraded.\n",
            "/usr/share/fonts: caching, new cache contents: 0 fonts, 1 dirs\n",
            "/usr/share/fonts/truetype: caching, new cache contents: 0 fonts, 3 dirs\n",
            "/usr/share/fonts/truetype/humor-sans: caching, new cache contents: 1 fonts, 0 dirs\n",
            "/usr/share/fonts/truetype/liberation: caching, new cache contents: 16 fonts, 0 dirs\n",
            "/usr/share/fonts/truetype/nanum: caching, new cache contents: 10 fonts, 0 dirs\n",
            "/usr/local/share/fonts: caching, new cache contents: 0 fonts, 0 dirs\n",
            "/root/.local/share/fonts: skipping, no such directory\n",
            "/root/.fonts: skipping, no such directory\n",
            "/var/cache/fontconfig: cleaning cache directory\n",
            "/root/.cache/fontconfig: not cleaning non-existent cache directory\n",
            "/root/.fontconfig: not cleaning non-existent cache directory\n",
            "fc-cache: succeeded\n"
          ],
          "name": "stdout"
        }
      ]
    },
    {
      "cell_type": "code",
      "metadata": {
        "id": "sEmFXI0qg8jn",
        "colab_type": "code",
        "colab": {
          "base_uri": "https://localhost:8080/",
          "height": 71
        },
        "outputId": "246a3fae-9f96-4069-ff05-61d871d98cbe"
      },
      "source": [
        "import numpy as np # linear algebra\n",
        "import pandas as pd # data processing, CSV file I/O (e.g. pd.read_csv)\n",
        "import matplotlib.pyplot as plt\n",
        "import matplotlib as mpl\n",
        "import matplotlib.font_manager as fm\n",
        "import seaborn as sns\n",
        "%matplotlib inline"
      ],
      "execution_count": null,
      "outputs": [
        {
          "output_type": "stream",
          "text": [
            "/usr/local/lib/python3.6/dist-packages/statsmodels/tools/_testing.py:19: FutureWarning: pandas.util.testing is deprecated. Use the functions in the public API at pandas.testing instead.\n",
            "  import pandas.util.testing as tm\n"
          ],
          "name": "stderr"
        }
      ]
    },
    {
      "cell_type": "code",
      "metadata": {
        "id": "N8u-m3dh3gvg",
        "colab_type": "code",
        "colab": {}
      },
      "source": [
        "plt.rcParams['axes.unicode_minus'] = False"
      ],
      "execution_count": null,
      "outputs": []
    },
    {
      "cell_type": "code",
      "metadata": {
        "id": "c7Ld4Dj1g-B7",
        "colab_type": "code",
        "colab": {
          "base_uri": "https://localhost:8080/",
          "height": 71
        },
        "outputId": "45de031f-24a5-415d-f6a2-4da2b56d3477"
      },
      "source": [
        "# Mount Google Drive\n",
        "from google.colab import drive # import drive from google colab\n",
        "\n",
        "ROOT = \"/content/drive\"     # default location for the drive\n",
        "print(ROOT)                 # print content of ROOT (Optional)\n",
        "drive.mount(ROOT)           # we mount the google drive at /content/drive"
      ],
      "execution_count": null,
      "outputs": [
        {
          "output_type": "stream",
          "text": [
            "/content/drive\n",
            "Drive already mounted at /content/drive; to attempt to forcibly remount, call drive.mount(\"/content/drive\", force_remount=True).\n"
          ],
          "name": "stdout"
        }
      ]
    },
    {
      "cell_type": "code",
      "metadata": {
        "id": "U2rA5gUHhcwy",
        "colab_type": "code",
        "colab": {
          "base_uri": "https://localhost:8080/",
          "height": 34
        },
        "outputId": "7d7bd886-c009-4259-c446-652124f58a78"
      },
      "source": [
        "from os.path import join  \n",
        "\n",
        "MY_GOOGLE_DRIVE_PATH = 'My Drive/Colab Notebooks/samsungcard' # 프로젝트 경로\n",
        "PROJECT_PATH = join(ROOT, MY_GOOGLE_DRIVE_PATH) # 프로젝트 경로\n",
        "print(PROJECT_PATH)"
      ],
      "execution_count": null,
      "outputs": [
        {
          "output_type": "stream",
          "text": [
            "/content/drive/My Drive/Colab Notebooks/samsungcard\n"
          ],
          "name": "stdout"
        }
      ]
    },
    {
      "cell_type": "code",
      "metadata": {
        "id": "AjZXF9-rhhz6",
        "colab_type": "code",
        "colab": {
          "base_uri": "https://localhost:8080/",
          "height": 34
        },
        "outputId": "e8eac3ec-aa4a-49ef-881a-dcfab6242b08"
      },
      "source": [
        "%cd \"{PROJECT_PATH}\""
      ],
      "execution_count": null,
      "outputs": [
        {
          "output_type": "stream",
          "text": [
            "/content/drive/My Drive/Colab Notebooks/samsungcard\n"
          ],
          "name": "stdout"
        }
      ]
    },
    {
      "cell_type": "markdown",
      "metadata": {
        "id": "0r9I8_jhZe49",
        "colab_type": "text"
      },
      "source": [
        "### 전체 데이터"
      ]
    },
    {
      "cell_type": "code",
      "metadata": {
        "id": "OjZ4DGH-hk1J",
        "colab_type": "code",
        "colab": {
          "base_uri": "https://localhost:8080/",
          "height": 470
        },
        "outputId": "a48a7772-a174-4c4a-9c50-4be58346e5fe"
      },
      "source": [
        "data =  pd.read_csv('trend_w_demo.csv',encoding='CP949')\n",
        "data"
      ],
      "execution_count": null,
      "outputs": [
        {
          "output_type": "execute_result",
          "data": {
            "text/html": [
              "<div>\n",
              "<style scoped>\n",
              "    .dataframe tbody tr th:only-of-type {\n",
              "        vertical-align: middle;\n",
              "    }\n",
              "\n",
              "    .dataframe tbody tr th {\n",
              "        vertical-align: top;\n",
              "    }\n",
              "\n",
              "    .dataframe thead th {\n",
              "        text-align: right;\n",
              "    }\n",
              "</style>\n",
              "<table border=\"1\" class=\"dataframe\">\n",
              "  <thead>\n",
              "    <tr style=\"text-align: right;\">\n",
              "      <th></th>\n",
              "      <th>YM</th>\n",
              "      <th>Category</th>\n",
              "      <th>성별구분</th>\n",
              "      <th>연령대</th>\n",
              "      <th>기혼스코어</th>\n",
              "      <th>유아자녀스코어</th>\n",
              "      <th>초등학생자녀스코어</th>\n",
              "      <th>중고생자녀스코어</th>\n",
              "      <th>대학생자녀스코어</th>\n",
              "      <th>전업주부스코어</th>\n",
              "    </tr>\n",
              "  </thead>\n",
              "  <tbody>\n",
              "    <tr>\n",
              "      <th>0</th>\n",
              "      <td>202005</td>\n",
              "      <td>할인점</td>\n",
              "      <td>0</td>\n",
              "      <td>F</td>\n",
              "      <td>high</td>\n",
              "      <td>low</td>\n",
              "      <td>high</td>\n",
              "      <td>mid</td>\n",
              "      <td>low</td>\n",
              "      <td>low</td>\n",
              "    </tr>\n",
              "    <tr>\n",
              "      <th>1</th>\n",
              "      <td>202005</td>\n",
              "      <td>취미</td>\n",
              "      <td>0</td>\n",
              "      <td>B</td>\n",
              "      <td>high</td>\n",
              "      <td>low</td>\n",
              "      <td>mid</td>\n",
              "      <td>mid</td>\n",
              "      <td>low</td>\n",
              "      <td>low</td>\n",
              "    </tr>\n",
              "    <tr>\n",
              "      <th>2</th>\n",
              "      <td>202005</td>\n",
              "      <td>오픈마켓/소셜</td>\n",
              "      <td>1</td>\n",
              "      <td>D</td>\n",
              "      <td>mid</td>\n",
              "      <td>mid</td>\n",
              "      <td>mid</td>\n",
              "      <td>mid</td>\n",
              "      <td>low</td>\n",
              "      <td>mid</td>\n",
              "    </tr>\n",
              "    <tr>\n",
              "      <th>3</th>\n",
              "      <td>202005</td>\n",
              "      <td>뷰티</td>\n",
              "      <td>0</td>\n",
              "      <td>D</td>\n",
              "      <td>mid</td>\n",
              "      <td>mid</td>\n",
              "      <td>mid</td>\n",
              "      <td>mid</td>\n",
              "      <td>low</td>\n",
              "      <td>low</td>\n",
              "    </tr>\n",
              "    <tr>\n",
              "      <th>4</th>\n",
              "      <td>202005</td>\n",
              "      <td>오픈마켓/소셜</td>\n",
              "      <td>0</td>\n",
              "      <td>G</td>\n",
              "      <td>high</td>\n",
              "      <td>low</td>\n",
              "      <td>mid</td>\n",
              "      <td>mid</td>\n",
              "      <td>mid</td>\n",
              "      <td>low</td>\n",
              "    </tr>\n",
              "    <tr>\n",
              "      <th>...</th>\n",
              "      <td>...</td>\n",
              "      <td>...</td>\n",
              "      <td>...</td>\n",
              "      <td>...</td>\n",
              "      <td>...</td>\n",
              "      <td>...</td>\n",
              "      <td>...</td>\n",
              "      <td>...</td>\n",
              "      <td>...</td>\n",
              "      <td>...</td>\n",
              "    </tr>\n",
              "    <tr>\n",
              "      <th>452033</th>\n",
              "      <td>201904</td>\n",
              "      <td>전문몰</td>\n",
              "      <td>0</td>\n",
              "      <td>E</td>\n",
              "      <td>low</td>\n",
              "      <td>mid</td>\n",
              "      <td>low</td>\n",
              "      <td>low</td>\n",
              "      <td>low</td>\n",
              "      <td>low</td>\n",
              "    </tr>\n",
              "    <tr>\n",
              "      <th>452034</th>\n",
              "      <td>201904</td>\n",
              "      <td>할인점</td>\n",
              "      <td>0</td>\n",
              "      <td>H</td>\n",
              "      <td>high</td>\n",
              "      <td>low</td>\n",
              "      <td>low</td>\n",
              "      <td>low</td>\n",
              "      <td>low</td>\n",
              "      <td>low</td>\n",
              "    </tr>\n",
              "    <tr>\n",
              "      <th>452035</th>\n",
              "      <td>201904</td>\n",
              "      <td>할인점</td>\n",
              "      <td>1</td>\n",
              "      <td>H</td>\n",
              "      <td>high</td>\n",
              "      <td>low</td>\n",
              "      <td>low</td>\n",
              "      <td>low</td>\n",
              "      <td>low</td>\n",
              "      <td>low</td>\n",
              "    </tr>\n",
              "    <tr>\n",
              "      <th>452036</th>\n",
              "      <td>201904</td>\n",
              "      <td>할인점</td>\n",
              "      <td>0</td>\n",
              "      <td>H</td>\n",
              "      <td>high</td>\n",
              "      <td>low</td>\n",
              "      <td>low</td>\n",
              "      <td>low</td>\n",
              "      <td>low</td>\n",
              "      <td>low</td>\n",
              "    </tr>\n",
              "    <tr>\n",
              "      <th>452037</th>\n",
              "      <td>201904</td>\n",
              "      <td>할인점</td>\n",
              "      <td>1</td>\n",
              "      <td>B</td>\n",
              "      <td>high</td>\n",
              "      <td>low</td>\n",
              "      <td>mid</td>\n",
              "      <td>mid</td>\n",
              "      <td>low</td>\n",
              "      <td>mid</td>\n",
              "    </tr>\n",
              "  </tbody>\n",
              "</table>\n",
              "<p>452038 rows × 10 columns</p>\n",
              "</div>"
            ],
            "text/plain": [
              "            YM Category  성별구분 연령대  ... 초등학생자녀스코어 중고생자녀스코어 대학생자녀스코어 전업주부스코어\n",
              "0       202005      할인점     0   F  ...      high      mid      low     low\n",
              "1       202005       취미     0   B  ...       mid      mid      low     low\n",
              "2       202005  오픈마켓/소셜     1   D  ...       mid      mid      low     mid\n",
              "3       202005       뷰티     0   D  ...       mid      mid      low     low\n",
              "4       202005  오픈마켓/소셜     0   G  ...       mid      mid      mid     low\n",
              "...        ...      ...   ...  ..  ...       ...      ...      ...     ...\n",
              "452033  201904      전문몰     0   E  ...       low      low      low     low\n",
              "452034  201904      할인점     0   H  ...       low      low      low     low\n",
              "452035  201904      할인점     1   H  ...       low      low      low     low\n",
              "452036  201904      할인점     0   H  ...       low      low      low     low\n",
              "452037  201904      할인점     1   B  ...       mid      mid      low     mid\n",
              "\n",
              "[452038 rows x 10 columns]"
            ]
          },
          "metadata": {
            "tags": []
          },
          "execution_count": 7
        }
      ]
    },
    {
      "cell_type": "code",
      "metadata": {
        "id": "zOpvKkghlUvk",
        "colab_type": "code",
        "colab": {
          "base_uri": "https://localhost:8080/",
          "height": 306
        },
        "outputId": "35403bbe-e451-4346-ef88-9489d6b9be0b"
      },
      "source": [
        "data.info()"
      ],
      "execution_count": null,
      "outputs": [
        {
          "output_type": "stream",
          "text": [
            "<class 'pandas.core.frame.DataFrame'>\n",
            "RangeIndex: 452038 entries, 0 to 452037\n",
            "Data columns (total 10 columns):\n",
            " #   Column     Non-Null Count   Dtype \n",
            "---  ------     --------------   ----- \n",
            " 0   YM         452038 non-null  int64 \n",
            " 1   Category   452038 non-null  object\n",
            " 2   성별구분       452038 non-null  int64 \n",
            " 3   연령대        452038 non-null  object\n",
            " 4   기혼스코어      452038 non-null  object\n",
            " 5   유아자녀스코어    452038 non-null  object\n",
            " 6   초등학생자녀스코어  452038 non-null  object\n",
            " 7   중고생자녀스코어   452038 non-null  object\n",
            " 8   대학생자녀스코어   452038 non-null  object\n",
            " 9   전업주부스코어    452038 non-null  object\n",
            "dtypes: int64(2), object(8)\n",
            "memory usage: 34.5+ MB\n"
          ],
          "name": "stdout"
        }
      ]
    },
    {
      "cell_type": "code",
      "metadata": {
        "id": "UMi6dBVIy8Pp",
        "colab_type": "code",
        "colab": {
          "base_uri": "https://localhost:8080/",
          "height": 34
        },
        "outputId": "3a10fd56-3fa9-4983-a0eb-3cf05fe1790f"
      },
      "source": [
        "data.shape"
      ],
      "execution_count": null,
      "outputs": [
        {
          "output_type": "execute_result",
          "data": {
            "text/plain": [
              "(452038, 10)"
            ]
          },
          "metadata": {
            "tags": []
          },
          "execution_count": 9
        }
      ]
    },
    {
      "cell_type": "code",
      "metadata": {
        "id": "BtmpEuEgzwG8",
        "colab_type": "code",
        "colab": {}
      },
      "source": [
        "mdata=data[data.YM==201904] \n",
        "#2019년 4월 data"
      ],
      "execution_count": null,
      "outputs": []
    },
    {
      "cell_type": "code",
      "metadata": {
        "id": "c9Xcf4irMD8w",
        "colab_type": "code",
        "colab": {}
      },
      "source": [
        "del mdata['YM'] #4월 데이터로 전체 동일 하므로 연도 삭제"
      ],
      "execution_count": null,
      "outputs": []
    },
    {
      "cell_type": "code",
      "metadata": {
        "id": "i4KLZz6Xz1fF",
        "colab_type": "code",
        "colab": {
          "base_uri": "https://localhost:8080/",
          "height": 34
        },
        "outputId": "848f4c73-e97a-4d2b-830c-42b25da4701e"
      },
      "source": [
        "mdata.shape"
      ],
      "execution_count": null,
      "outputs": [
        {
          "output_type": "execute_result",
          "data": {
            "text/plain": [
              "(120119, 9)"
            ]
          },
          "metadata": {
            "tags": []
          },
          "execution_count": 13
        }
      ]
    },
    {
      "cell_type": "markdown",
      "metadata": {
        "id": "Ck8KKMDBMiWn",
        "colab_type": "text"
      },
      "source": [
        "\n",
        "## 2019년 4월 카드사용 Data\n"
      ]
    },
    {
      "cell_type": "code",
      "metadata": {
        "id": "lmgm7tKe0tqk",
        "colab_type": "code",
        "colab": {
          "base_uri": "https://localhost:8080/",
          "height": 170
        },
        "outputId": "f19476ac-9d98-44f7-9bdf-809d031f7afb"
      },
      "source": [
        "mdata['연령대'].value_counts() \n",
        "#연령별 인원"
      ],
      "execution_count": null,
      "outputs": [
        {
          "output_type": "execute_result",
          "data": {
            "text/plain": [
              "D    20653\n",
              "A    18540\n",
              "F    18393\n",
              "E    15278\n",
              "C    15032\n",
              "G    13083\n",
              "H     9701\n",
              "B     9439\n",
              "Name: 연령대, dtype: int64"
            ]
          },
          "metadata": {
            "tags": []
          },
          "execution_count": 14
        }
      ]
    },
    {
      "cell_type": "markdown",
      "metadata": {
        "id": "05nqpeYH2WId",
        "colab_type": "text"
      },
      "source": [
        " - mdata"
      ]
    },
    {
      "cell_type": "markdown",
      "metadata": {
        "id": "2Iey9U7-Kr0j",
        "colab_type": "text"
      },
      "source": [
        "## 기혼스코어가 low인 데이터\n"
      ]
    },
    {
      "cell_type": "code",
      "metadata": {
        "id": "AzQ5AMJN6oUN",
        "colab_type": "code",
        "colab": {}
      },
      "source": [
        "unmarried=mdata[mdata.기혼스코어=='low']\n"
      ],
      "execution_count": null,
      "outputs": []
    },
    {
      "cell_type": "markdown",
      "metadata": {
        "id": "BDkRxZYT2aVp",
        "colab_type": "text"
      },
      "source": [
        "- unmarried\n",
        "- 연령대는 E와 C 그룹만 존재"
      ]
    },
    {
      "cell_type": "markdown",
      "metadata": {
        "id": "KfzEk2BRx4O_",
        "colab_type": "text"
      },
      "source": [
        "### 기혼스코어 낮은 사람들의 유아자녀 스코어\n"
      ]
    },
    {
      "cell_type": "code",
      "metadata": {
        "id": "eMFcE5kfNpJg",
        "colab_type": "code",
        "colab": {
          "base_uri": "https://localhost:8080/",
          "height": 88
        },
        "outputId": "1ea03570-1db9-4707-e77a-85104af0ae5a"
      },
      "source": [
        "unmarried[unmarried.유아자녀스코어=='low']['연령대'].value_counts()\n"
      ],
      "execution_count": null,
      "outputs": [
        {
          "output_type": "execute_result",
          "data": {
            "text/plain": [
              "E    5250\n",
              "C      20\n",
              "Name: 연령대, dtype: int64"
            ]
          },
          "metadata": {
            "tags": []
          },
          "execution_count": 17
        }
      ]
    },
    {
      "cell_type": "code",
      "metadata": {
        "id": "JdS9y_9-6tqm",
        "colab_type": "code",
        "colab": {
          "base_uri": "https://localhost:8080/",
          "height": 88
        },
        "outputId": "ca6802c9-8543-478e-cce0-0fc4f3028726"
      },
      "source": [
        "unmarried[unmarried.유아자녀스코어=='mid']['연령대'].value_counts()\n"
      ],
      "execution_count": null,
      "outputs": [
        {
          "output_type": "execute_result",
          "data": {
            "text/plain": [
              "E    3549\n",
              "C      69\n",
              "Name: 연령대, dtype: int64"
            ]
          },
          "metadata": {
            "tags": []
          },
          "execution_count": 18
        }
      ]
    },
    {
      "cell_type": "code",
      "metadata": {
        "id": "xmRQG1ba7IBT",
        "colab_type": "code",
        "colab": {
          "base_uri": "https://localhost:8080/",
          "height": 71
        },
        "outputId": "7c833ae9-b2ef-41ab-b845-76c0e5253fa9"
      },
      "source": [
        "unmarried[unmarried.유아자녀스코어=='high']['연령대'].value_counts()\n",
        "# c는 미혼인 사람중 유아자녀가 high 인 사람은 없다.\n"
      ],
      "execution_count": null,
      "outputs": [
        {
          "output_type": "execute_result",
          "data": {
            "text/plain": [
              "E    58\n",
              "Name: 연령대, dtype: int64"
            ]
          },
          "metadata": {
            "tags": []
          },
          "execution_count": 19
        }
      ]
    },
    {
      "cell_type": "markdown",
      "metadata": {
        "id": "6XkJE6lz2ghj",
        "colab_type": "text"
      },
      "source": [
        "- 유아자녀 스코어가 high인 c그룹은 없음"
      ]
    },
    {
      "cell_type": "markdown",
      "metadata": {
        "id": "uRh6z0NtKUxY",
        "colab_type": "text"
      },
      "source": [
        "### 기혼스코어 낮은 사람들의 초등자녀 스코어\n"
      ]
    },
    {
      "cell_type": "code",
      "metadata": {
        "id": "-KyHLOpF7jE7",
        "colab_type": "code",
        "colab": {
          "base_uri": "https://localhost:8080/",
          "height": 88
        },
        "outputId": "efa9abec-6ecd-4087-9d1f-f7e19af95cd8"
      },
      "source": [
        "unmarried[unmarried.초등학생자녀스코어=='low']['연령대'].value_counts()\n",
        "# 미혼인 사람들은 e와 c그룹이 있는데 e의 모든 사람이 초등학생 자녀가 없다."
      ],
      "execution_count": null,
      "outputs": [
        {
          "output_type": "execute_result",
          "data": {
            "text/plain": [
              "E    8857\n",
              "C      39\n",
              "Name: 연령대, dtype: int64"
            ]
          },
          "metadata": {
            "tags": []
          },
          "execution_count": 20
        }
      ]
    },
    {
      "cell_type": "code",
      "metadata": {
        "id": "WNhcOO5Z8INl",
        "colab_type": "code",
        "colab": {
          "base_uri": "https://localhost:8080/",
          "height": 71
        },
        "outputId": "0418ab89-fc40-4ed8-fb62-e017f30833d8"
      },
      "source": [
        "unmarried[unmarried.초등학생자녀스코어=='mid']['연령대'].value_counts()\n",
        "# 미혼인 사람들 중 초등학생 자녀가 있을 가능성이 높은 사람은 없고 애매한 사람은 c그룹이 있다."
      ],
      "execution_count": null,
      "outputs": [
        {
          "output_type": "execute_result",
          "data": {
            "text/plain": [
              "C    50\n",
              "Name: 연령대, dtype: int64"
            ]
          },
          "metadata": {
            "tags": []
          },
          "execution_count": 21
        }
      ]
    },
    {
      "cell_type": "code",
      "metadata": {
        "id": "yFINEtZpzAKX",
        "colab_type": "code",
        "colab": {
          "base_uri": "https://localhost:8080/",
          "height": 54
        },
        "outputId": "d51a0ef0-6dcf-4bf1-dee5-4f216b049d4b"
      },
      "source": [
        "unmarried[unmarried.초등학생자녀스코어=='high']['연령대'].value_counts()"
      ],
      "execution_count": null,
      "outputs": [
        {
          "output_type": "execute_result",
          "data": {
            "text/plain": [
              "Series([], Name: 연령대, dtype: int64)"
            ]
          },
          "metadata": {
            "tags": []
          },
          "execution_count": 22
        }
      ]
    },
    {
      "cell_type": "code",
      "metadata": {
        "id": "8E-D7Ldg_rg2",
        "colab_type": "code",
        "colab": {
          "base_uri": "https://localhost:8080/",
          "height": 88
        },
        "outputId": "8884c862-cf48-44e9-8e29-fc1ade82d349"
      },
      "source": [
        "unmarried[unmarried.중고생자녀스코어=='low']['연령대'].value_counts()"
      ],
      "execution_count": null,
      "outputs": [
        {
          "output_type": "execute_result",
          "data": {
            "text/plain": [
              "E    8857\n",
              "C      89\n",
              "Name: 연령대, dtype: int64"
            ]
          },
          "metadata": {
            "tags": []
          },
          "execution_count": 23
        }
      ]
    },
    {
      "cell_type": "code",
      "metadata": {
        "id": "vQaar2tu_3Wr",
        "colab_type": "code",
        "colab": {
          "base_uri": "https://localhost:8080/",
          "height": 88
        },
        "outputId": "5d689bf3-db08-4ed8-b4ef-f6fc6e3c9f6d"
      },
      "source": [
        "unmarried[unmarried.대학생자녀스코어=='low']['연령대'].value_counts()"
      ],
      "execution_count": null,
      "outputs": [
        {
          "output_type": "execute_result",
          "data": {
            "text/plain": [
              "E    8857\n",
              "C      89\n",
              "Name: 연령대, dtype: int64"
            ]
          },
          "metadata": {
            "tags": []
          },
          "execution_count": 24
        }
      ]
    },
    {
      "cell_type": "markdown",
      "metadata": {
        "id": "ZgOk0e8J2nKd",
        "colab_type": "text"
      },
      "source": [
        "- e그룹은 전부 초등학생 자녀가 스코어가 low이다.\n",
        "- 초등자녀 스코어가 high 인 c 그룹은 없다."
      ]
    },
    {
      "cell_type": "code",
      "metadata": {
        "id": "_k0k5Jbz8ZKk",
        "colab_type": "code",
        "colab": {}
      },
      "source": [
        "# 미혼인 사람을 분석해본 결과 미혼의 사람들은 e그룹과 c그룹이 있는데 e그룹은 유아자녀가 있을 수 있고 c그룹은 적지만 초등자녀까지 있을 수 있다."
      ],
      "execution_count": null,
      "outputs": []
    },
    {
      "cell_type": "markdown",
      "metadata": {
        "id": "oQvtjq0_MVs7",
        "colab_type": "text"
      },
      "source": [
        "## 기혼스코어가 mid 인 데이터\n"
      ]
    },
    {
      "cell_type": "code",
      "metadata": {
        "id": "yDw9nT_D9rvj",
        "colab_type": "code",
        "colab": {
          "base_uri": "https://localhost:8080/",
          "height": 105
        },
        "outputId": "b164c066-c545-46ec-cbfb-2549de2be992"
      },
      "source": [
        "mdata[mdata.기혼스코어=='mid']['연령대'].value_counts()"
      ],
      "execution_count": null,
      "outputs": [
        {
          "output_type": "execute_result",
          "data": {
            "text/plain": [
              "C    12186\n",
              "D    10413\n",
              "E     5736\n",
              "Name: 연령대, dtype: int64"
            ]
          },
          "metadata": {
            "tags": []
          },
          "execution_count": 26
        }
      ]
    },
    {
      "cell_type": "code",
      "metadata": {
        "id": "nUvMwDdS8YYT",
        "colab_type": "code",
        "colab": {
          "base_uri": "https://localhost:8080/",
          "height": 85
        },
        "outputId": "66a3ff9c-2f1f-4a6f-f962-7fed0cd87b3d"
      },
      "source": [
        "ambiguous=mdata[mdata.기혼스코어=='mid']\n",
        "ambiguous['연령대'].value_counts()"
      ],
      "execution_count": null,
      "outputs": [
        {
          "output_type": "execute_result",
          "data": {
            "text/plain": [
              "C    12186\n",
              "D    10413\n",
              "E     5736\n",
              "Name: 연령대, dtype: int64"
            ]
          },
          "metadata": {
            "tags": []
          },
          "execution_count": 102
        }
      ]
    },
    {
      "cell_type": "markdown",
      "metadata": {
        "id": "I94cusf22uJz",
        "colab_type": "text"
      },
      "source": [
        "- ambiguous\n",
        "- C , D , E 그룹\n"
      ]
    },
    {
      "cell_type": "markdown",
      "metadata": {
        "id": "W2ZlLnsF1D7J",
        "colab_type": "text"
      },
      "source": [
        "### 기혼스코어가 mid인 사람중 유아자녀스코어\n"
      ]
    },
    {
      "cell_type": "code",
      "metadata": {
        "id": "KL4eeUx69bna",
        "colab_type": "code",
        "colab": {
          "base_uri": "https://localhost:8080/",
          "height": 85
        },
        "outputId": "8f1a54b7-499b-4b75-f361-bf2f1859d24d"
      },
      "source": [
        "ambiguous[ambiguous.유아자녀스코어=='low']['연령대'].value_counts()"
      ],
      "execution_count": null,
      "outputs": [
        {
          "output_type": "execute_result",
          "data": {
            "text/plain": [
              "E    567\n",
              "D    331\n",
              "C    299\n",
              "Name: 연령대, dtype: int64"
            ]
          },
          "metadata": {
            "tags": []
          },
          "execution_count": 28
        }
      ]
    },
    {
      "cell_type": "code",
      "metadata": {
        "id": "dYwCX5T9-B1y",
        "colab_type": "code",
        "colab": {
          "base_uri": "https://localhost:8080/",
          "height": 85
        },
        "outputId": "84697628-44eb-44ef-f542-6ab989db2592"
      },
      "source": [
        "ambiguous[ambiguous.유아자녀스코어=='mid']['연령대'].value_counts()"
      ],
      "execution_count": null,
      "outputs": [
        {
          "output_type": "execute_result",
          "data": {
            "text/plain": [
              "C    9853\n",
              "D    9043\n",
              "E    4599\n",
              "Name: 연령대, dtype: int64"
            ]
          },
          "metadata": {
            "tags": []
          },
          "execution_count": 29
        }
      ]
    },
    {
      "cell_type": "code",
      "metadata": {
        "id": "2clg_qo3-ON9",
        "colab_type": "code",
        "colab": {
          "base_uri": "https://localhost:8080/",
          "height": 85
        },
        "outputId": "da0a8a5d-a5d9-4342-ed74-caf6218510ea"
      },
      "source": [
        "ambiguous[ambiguous.유아자녀스코어=='high']['연령대'].value_counts()"
      ],
      "execution_count": null,
      "outputs": [
        {
          "output_type": "execute_result",
          "data": {
            "text/plain": [
              "C    2034\n",
              "D    1039\n",
              "E     570\n",
              "Name: 연령대, dtype: int64"
            ]
          },
          "metadata": {
            "tags": []
          },
          "execution_count": 30
        }
      ]
    },
    {
      "cell_type": "markdown",
      "metadata": {
        "id": "MJy7qHWN2x6Q",
        "colab_type": "text"
      },
      "source": [
        "- c그룹이 가장 많다."
      ]
    },
    {
      "cell_type": "markdown",
      "metadata": {
        "id": "ooZEiRBH1ZTJ",
        "colab_type": "text"
      },
      "source": [
        "### 기혼스코어가 mid인 사람중 초등자녀스코어\n"
      ]
    },
    {
      "cell_type": "code",
      "metadata": {
        "id": "cll2eJBg-pyl",
        "colab_type": "code",
        "colab": {
          "base_uri": "https://localhost:8080/",
          "height": 105
        },
        "outputId": "96009093-ff43-4712-91a2-ed984794ffee"
      },
      "source": [
        "ambiguous[ambiguous.초등학생자녀스코어=='low']['연령대'].value_counts()"
      ],
      "execution_count": null,
      "outputs": [
        {
          "output_type": "execute_result",
          "data": {
            "text/plain": [
              "E    5736\n",
              "C    1063\n",
              "D      22\n",
              "Name: 연령대, dtype: int64"
            ]
          },
          "metadata": {
            "tags": []
          },
          "execution_count": 31
        }
      ]
    },
    {
      "cell_type": "code",
      "metadata": {
        "id": "mF-ll7mK-yjb",
        "colab_type": "code",
        "colab": {
          "base_uri": "https://localhost:8080/",
          "height": 88
        },
        "outputId": "d40fb14e-3783-4ab8-acef-9ed3578f8f68"
      },
      "source": [
        "ambiguous[ambiguous.초등학생자녀스코어=='mid']['연령대'].value_counts()"
      ],
      "execution_count": null,
      "outputs": [
        {
          "output_type": "execute_result",
          "data": {
            "text/plain": [
              "C    6000\n",
              "D    2336\n",
              "Name: 연령대, dtype: int64"
            ]
          },
          "metadata": {
            "tags": []
          },
          "execution_count": 32
        }
      ]
    },
    {
      "cell_type": "code",
      "metadata": {
        "id": "oxV5Il3X-ixe",
        "colab_type": "code",
        "colab": {
          "base_uri": "https://localhost:8080/",
          "height": 88
        },
        "outputId": "7844fd46-f323-44b8-aaaf-9e3e06ee1472"
      },
      "source": [
        "ambiguous[ambiguous.초등학생자녀스코어=='high']['연령대'].value_counts()"
      ],
      "execution_count": null,
      "outputs": [
        {
          "output_type": "execute_result",
          "data": {
            "text/plain": [
              "D    8055\n",
              "C    5123\n",
              "Name: 연령대, dtype: int64"
            ]
          },
          "metadata": {
            "tags": []
          },
          "execution_count": 33
        }
      ]
    },
    {
      "cell_type": "markdown",
      "metadata": {
        "id": "D8Kju4wo22zo",
        "colab_type": "text"
      },
      "source": [
        "- e 그룹은 유아자녀 스코어는 보이지만 초등자녀 스코어가 전부 low이기 때문에 8세이상의 아이를 가지지 않은 가장 낮은 연령대로 볼 수 있다."
      ]
    },
    {
      "cell_type": "markdown",
      "metadata": {
        "id": "lKe5KxEFNHFz",
        "colab_type": "text"
      },
      "source": [
        "### 기혼스코어가 mid인 사람중 중고생 자녀스코어\n"
      ]
    },
    {
      "cell_type": "code",
      "metadata": {
        "id": "MKlk-EDY-90f",
        "colab_type": "code",
        "colab": {
          "base_uri": "https://localhost:8080/",
          "height": 105
        },
        "outputId": "91bb1ab5-398f-486c-c05f-ad92d28872ce"
      },
      "source": [
        "ambiguous[ambiguous.중고생자녀스코어=='low']['연령대'].value_counts()\n",
        "#결혼이 모호한 사람들중 c,e그룹은 중고생 이상 자녀가 없다.\n"
      ],
      "execution_count": null,
      "outputs": [
        {
          "output_type": "execute_result",
          "data": {
            "text/plain": [
              "C    12186\n",
              "E     5736\n",
              "D       28\n",
              "Name: 연령대, dtype: int64"
            ]
          },
          "metadata": {
            "tags": []
          },
          "execution_count": 34
        }
      ]
    },
    {
      "cell_type": "code",
      "metadata": {
        "id": "cG5MDaeZ-9my",
        "colab_type": "code",
        "colab": {
          "base_uri": "https://localhost:8080/",
          "height": 71
        },
        "outputId": "f6bb9dcd-dc30-42c4-8fc9-0ab2852c454b"
      },
      "source": [
        "ambiguous[ambiguous.중고생자녀스코어=='mid']['연령대'].value_counts()"
      ],
      "execution_count": null,
      "outputs": [
        {
          "output_type": "execute_result",
          "data": {
            "text/plain": [
              "D    10279\n",
              "Name: 연령대, dtype: int64"
            ]
          },
          "metadata": {
            "tags": []
          },
          "execution_count": 35
        }
      ]
    },
    {
      "cell_type": "code",
      "metadata": {
        "id": "5Ont3dgv_FEb",
        "colab_type": "code",
        "colab": {
          "base_uri": "https://localhost:8080/",
          "height": 71
        },
        "outputId": "f963da13-a2a4-475d-edf6-1bba9bc2692f"
      },
      "source": [
        "ambiguous[ambiguous.중고생자녀스코어=='high']['연령대'].value_counts()"
      ],
      "execution_count": null,
      "outputs": [
        {
          "output_type": "execute_result",
          "data": {
            "text/plain": [
              "D    106\n",
              "Name: 연령대, dtype: int64"
            ]
          },
          "metadata": {
            "tags": []
          },
          "execution_count": 36
        }
      ]
    },
    {
      "cell_type": "markdown",
      "metadata": {
        "id": "Q8nNnfsb29iz",
        "colab_type": "text"
      },
      "source": [
        "- C 그룹은 초등자녀 스코어는 보이지만 중고생 이상의 자녀가 전부 low이기 때문에 14세 이상의 아이를 가지지 못한 e그룹 다음 연령대로 볼 수 있다"
      ]
    },
    {
      "cell_type": "markdown",
      "metadata": {
        "id": "5TfsEsyQNsGS",
        "colab_type": "text"
      },
      "source": [
        "### 기혼스코어가 mid인 사람중 대학생 자녀스코어\n"
      ]
    },
    {
      "cell_type": "code",
      "metadata": {
        "id": "28YuECqY_hha",
        "colab_type": "code",
        "colab": {
          "base_uri": "https://localhost:8080/",
          "height": 105
        },
        "outputId": "b6c6ee67-239d-45a1-e2e9-a740be972240"
      },
      "source": [
        "ambiguous[ambiguous.대학생자녀스코어=='low']['연령대'].value_counts()\n",
        "#대학생 이상의 자녀는 결혼이 모호한 d그룹중 아무도 없음"
      ],
      "execution_count": null,
      "outputs": [
        {
          "output_type": "execute_result",
          "data": {
            "text/plain": [
              "C    12186\n",
              "D    10413\n",
              "E     5736\n",
              "Name: 연령대, dtype: int64"
            ]
          },
          "metadata": {
            "tags": []
          },
          "execution_count": 37
        }
      ]
    },
    {
      "cell_type": "markdown",
      "metadata": {
        "id": "L5oUWDr-3BXv",
        "colab_type": "text"
      },
      "source": [
        "- 기혼스코어가 mid인 C, D, E그룹중 대학생자녀는 모두 없기 때문에 20세 이상의 자녀를 가지지 않은 연령대로 볼수 있다. 그리고 기혼율도 낮은 3그룹이기 때문에 가장 낮은 연령대 일 것이다.\n",
        "- e < c < d."
      ]
    },
    {
      "cell_type": "markdown",
      "metadata": {
        "id": "wD7RbAYF3cpN",
        "colab_type": "text"
      },
      "source": [
        "## 기혼 스코어가 high 인 데이터\n",
        "- married\n",
        "\n"
      ]
    },
    {
      "cell_type": "code",
      "metadata": {
        "id": "8VDT0Af4A23w",
        "colab_type": "code",
        "colab": {
          "base_uri": "https://localhost:8080/",
          "height": 170
        },
        "outputId": "dcb555fc-4892-4cbb-ce35-b187a81be81b"
      },
      "source": [
        "mdata[mdata.기혼스코어=='high']['연령대'].value_counts()"
      ],
      "execution_count": null,
      "outputs": [
        {
          "output_type": "execute_result",
          "data": {
            "text/plain": [
              "A    18540\n",
              "F    18393\n",
              "G    13083\n",
              "D    10240\n",
              "H     9701\n",
              "B     9439\n",
              "C     2757\n",
              "E      685\n",
              "Name: 연령대, dtype: int64"
            ]
          },
          "metadata": {
            "tags": []
          },
          "execution_count": 38
        }
      ]
    },
    {
      "cell_type": "code",
      "metadata": {
        "id": "Te0xzM7OBF9j",
        "colab_type": "code",
        "colab": {}
      },
      "source": [
        "married=mdata[mdata.기혼스코어=='high']"
      ],
      "execution_count": null,
      "outputs": []
    },
    {
      "cell_type": "markdown",
      "metadata": {
        "id": "-zJ45kAs3GGw",
        "colab_type": "text"
      },
      "source": [
        "- 모든 그룹이 있다."
      ]
    },
    {
      "cell_type": "markdown",
      "metadata": {
        "id": "dYwP8ijR3xj8",
        "colab_type": "text"
      },
      "source": [
        "### 기혼스코어가 high 인 사람의 유아자녀스코어\n",
        "- b,g,h는 유아 자녀가 없으므로 가장 높은 연령대의 그룹들 일 가능성이 높다.\n"
      ]
    },
    {
      "cell_type": "code",
      "metadata": {
        "id": "Y-L2LiVGBGE4",
        "colab_type": "code",
        "colab": {
          "base_uri": "https://localhost:8080/",
          "height": 173
        },
        "outputId": "6a41104f-540e-404d-9355-8ba3c666086a"
      },
      "source": [
        "married[married.유아자녀스코어=='low']['연령대'].value_counts()\n",
        "#기혼스코어가 high인 사람중 c 그룹은 유아자녀 low인 값이 없다."
      ],
      "execution_count": null,
      "outputs": [
        {
          "output_type": "execute_result",
          "data": {
            "text/plain": [
              "F    16579\n",
              "G    13083\n",
              "H     9701\n",
              "B     9439\n",
              "A     6653\n",
              "E      122\n",
              "D       61\n",
              "Name: 연령대, dtype: int64"
            ]
          },
          "metadata": {
            "tags": []
          },
          "execution_count": 40
        }
      ]
    },
    {
      "cell_type": "code",
      "metadata": {
        "id": "HHyhZVfcBF0i",
        "colab_type": "code",
        "colab": {
          "base_uri": "https://localhost:8080/",
          "height": 139
        },
        "outputId": "91535462-94c8-4eb7-b31c-24f3cf3a18aa"
      },
      "source": [
        "married[married.유아자녀스코어=='mid']['연령대'].value_counts()"
      ],
      "execution_count": null,
      "outputs": [
        {
          "output_type": "execute_result",
          "data": {
            "text/plain": [
              "A    11225\n",
              "D     7575\n",
              "F     1808\n",
              "C     1546\n",
              "E      461\n",
              "Name: 연령대, dtype: int64"
            ]
          },
          "metadata": {
            "tags": []
          },
          "execution_count": 41
        }
      ]
    },
    {
      "cell_type": "code",
      "metadata": {
        "id": "G2qWSLh3B_Xk",
        "colab_type": "code",
        "colab": {
          "base_uri": "https://localhost:8080/",
          "height": 139
        },
        "outputId": "fc5a2f5a-1747-47b3-8cd1-9fa964e5f3d0"
      },
      "source": [
        "married[married.유아자녀스코어=='high']['연령대'].value_counts()\n",
        "#기혼스코어가 high인 사람중 b, g, h 그룹은 유아자녀 mid, high인 값이 없다."
      ],
      "execution_count": null,
      "outputs": [
        {
          "output_type": "execute_result",
          "data": {
            "text/plain": [
              "D    2604\n",
              "C    1211\n",
              "A     662\n",
              "E     102\n",
              "F       6\n",
              "Name: 연령대, dtype: int64"
            ]
          },
          "metadata": {
            "tags": []
          },
          "execution_count": 42
        }
      ]
    },
    {
      "cell_type": "markdown",
      "metadata": {
        "id": "cw5HxhF36GvG",
        "colab_type": "text"
      },
      "source": [
        "### 기혼스코어가 high 인 사람의 초등자녀스코어\n",
        "- h그룹이 초등자녀스코어가 모두 low이므로 가장 높은 연령대로 볼 수 있다.\n"
      ]
    },
    {
      "cell_type": "code",
      "metadata": {
        "id": "MmJPpG-tCZoZ",
        "colab_type": "code",
        "colab": {
          "base_uri": "https://localhost:8080/",
          "height": 156
        },
        "outputId": "7133aa86-0225-4dbd-b8c6-fcfbb7ddc7d9"
      },
      "source": [
        "married[married.초등학생자녀스코어=='low']['연령대'].value_counts()\n",
        "#기혼스코어가 high인 사람중 a와 d 그룹은 초등학생 자녀스코어가 low인 사람이 없다.\n"
      ],
      "execution_count": null,
      "outputs": [
        {
          "output_type": "execute_result",
          "data": {
            "text/plain": [
              "H    9701\n",
              "B    2164\n",
              "G    1113\n",
              "E     685\n",
              "F     167\n",
              "C      34\n",
              "Name: 연령대, dtype: int64"
            ]
          },
          "metadata": {
            "tags": []
          },
          "execution_count": 43
        }
      ]
    },
    {
      "cell_type": "code",
      "metadata": {
        "id": "6Idtiur_CgJc",
        "colab_type": "code",
        "colab": {
          "base_uri": "https://localhost:8080/",
          "height": 156
        },
        "outputId": "b2905ef3-1796-414b-f5ae-647844743a97"
      },
      "source": [
        "married[married.초등학생자녀스코어=='mid']['연령대'].value_counts()\n"
      ],
      "execution_count": null,
      "outputs": [
        {
          "output_type": "execute_result",
          "data": {
            "text/plain": [
              "G    7726\n",
              "B    6122\n",
              "F    4865\n",
              "A    1478\n",
              "C     749\n",
              "D     584\n",
              "Name: 연령대, dtype: int64"
            ]
          },
          "metadata": {
            "tags": []
          },
          "execution_count": 44
        }
      ]
    },
    {
      "cell_type": "code",
      "metadata": {
        "id": "kvbbZBCQCiH5",
        "colab_type": "code",
        "colab": {
          "base_uri": "https://localhost:8080/",
          "height": 156
        },
        "outputId": "58652570-84d5-43b6-c966-0476d643443f"
      },
      "source": [
        "married[married.초등학생자녀스코어=='high']['연령대'].value_counts()\n",
        "# 초등자녀 스코어가 mid or high인 h그룹은 없음"
      ],
      "execution_count": null,
      "outputs": [
        {
          "output_type": "execute_result",
          "data": {
            "text/plain": [
              "A    17062\n",
              "F    13361\n",
              "D     9656\n",
              "G     4244\n",
              "C     1974\n",
              "B     1153\n",
              "Name: 연령대, dtype: int64"
            ]
          },
          "metadata": {
            "tags": []
          },
          "execution_count": 45
        }
      ]
    },
    {
      "cell_type": "markdown",
      "metadata": {
        "id": "hdK29fOu6Ja0",
        "colab_type": "text"
      },
      "source": [
        "### 기혼스코어가 high 인 사람의 중고생자녀스코어"
      ]
    },
    {
      "cell_type": "code",
      "metadata": {
        "id": "uL-v-9czHUlg",
        "colab_type": "code",
        "colab": {
          "base_uri": "https://localhost:8080/",
          "height": 173
        },
        "outputId": "760daf0d-2aba-43af-ea45-75649dd703fd"
      },
      "source": [
        "married[married.중고생자녀스코어=='low']['연령대'].value_counts()\n"
      ],
      "execution_count": null,
      "outputs": [
        {
          "output_type": "execute_result",
          "data": {
            "text/plain": [
              "H    9701\n",
              "C    2757\n",
              "E     685\n",
              "B     323\n",
              "F      63\n",
              "G      59\n",
              "A      30\n",
              "Name: 연령대, dtype: int64"
            ]
          },
          "metadata": {
            "tags": []
          },
          "execution_count": 46
        }
      ]
    },
    {
      "cell_type": "code",
      "metadata": {
        "id": "aXzgSiRSHU1Z",
        "colab_type": "code",
        "colab": {
          "base_uri": "https://localhost:8080/",
          "height": 139
        },
        "outputId": "2b53e258-eedf-44de-bbe3-dda03e7993d1"
      },
      "source": [
        "married[married.중고생자녀스코어=='mid']['연령대'].value_counts()\n"
      ],
      "execution_count": null,
      "outputs": [
        {
          "output_type": "execute_result",
          "data": {
            "text/plain": [
              "A    14973\n",
              "F    14779\n",
              "G    12490\n",
              "D     9439\n",
              "B     9083\n",
              "Name: 연령대, dtype: int64"
            ]
          },
          "metadata": {
            "tags": []
          },
          "execution_count": 47
        }
      ]
    },
    {
      "cell_type": "code",
      "metadata": {
        "id": "kuBN48GOHUc1",
        "colab_type": "code",
        "colab": {
          "base_uri": "https://localhost:8080/",
          "height": 139
        },
        "outputId": "cf523746-b93d-437e-ec98-c2cfb7dbefbd"
      },
      "source": [
        "married[married.중고생자녀스코어=='high']['연령대'].value_counts()"
      ],
      "execution_count": null,
      "outputs": [
        {
          "output_type": "execute_result",
          "data": {
            "text/plain": [
              "F    3551\n",
              "A    3537\n",
              "D     801\n",
              "G     534\n",
              "B      33\n",
              "Name: 연령대, dtype: int64"
            ]
          },
          "metadata": {
            "tags": []
          },
          "execution_count": 48
        }
      ]
    },
    {
      "cell_type": "markdown",
      "metadata": {
        "id": "sWyya3dY6NAG",
        "colab_type": "text"
      },
      "source": [
        "### 기혼스코어가 high 인 사람의 대학생 자녀스코어"
      ]
    },
    {
      "cell_type": "code",
      "metadata": {
        "id": "JQS6PEMkIXX7",
        "colab_type": "code",
        "colab": {
          "base_uri": "https://localhost:8080/",
          "height": 190
        },
        "outputId": "20cb185f-a8c9-47f2-c6d7-99dd57b075db"
      },
      "source": [
        "married[married.대학생자녀스코어=='low']['연령대'].value_counts()\n"
      ],
      "execution_count": null,
      "outputs": [
        {
          "output_type": "execute_result",
          "data": {
            "text/plain": [
              "A    14755\n",
              "D    10240\n",
              "F     9242\n",
              "H     8636\n",
              "B     5409\n",
              "G     4645\n",
              "C     2757\n",
              "E      685\n",
              "Name: 연령대, dtype: int64"
            ]
          },
          "metadata": {
            "tags": []
          },
          "execution_count": 49
        }
      ]
    },
    {
      "cell_type": "code",
      "metadata": {
        "id": "XOVxZKNjIXlt",
        "colab_type": "code",
        "colab": {
          "base_uri": "https://localhost:8080/",
          "height": 139
        },
        "outputId": "81789077-f1b7-472f-818e-a6d002aa3c08"
      },
      "source": [
        "married[married.대학생자녀스코어=='mid']['연령대'].value_counts()"
      ],
      "execution_count": null,
      "outputs": [
        {
          "output_type": "execute_result",
          "data": {
            "text/plain": [
              "F    8923\n",
              "G    7823\n",
              "B    3811\n",
              "A    3782\n",
              "H    1061\n",
              "Name: 연령대, dtype: int64"
            ]
          },
          "metadata": {
            "tags": []
          },
          "execution_count": 50
        }
      ]
    },
    {
      "cell_type": "code",
      "metadata": {
        "id": "WF6jso7EIXPT",
        "colab_type": "code",
        "colab": {
          "base_uri": "https://localhost:8080/",
          "height": 139
        },
        "outputId": "8e3578aa-2833-496a-bffe-4915a3640efd"
      },
      "source": [
        "married[married.대학생자녀스코어=='high']['연령대'].value_counts()"
      ],
      "execution_count": null,
      "outputs": [
        {
          "output_type": "execute_result",
          "data": {
            "text/plain": [
              "G    615\n",
              "F    228\n",
              "B    219\n",
              "H      4\n",
              "A      3\n",
              "Name: 연령대, dtype: int64"
            ]
          },
          "metadata": {
            "tags": []
          },
          "execution_count": 51
        }
      ]
    },
    {
      "cell_type": "markdown",
      "metadata": {
        "id": "NykuMDyWN5eR",
        "colab_type": "text"
      },
      "source": [
        "## 남자는 전업주부가 없다."
      ]
    },
    {
      "cell_type": "code",
      "metadata": {
        "id": "a0gDH_XeKJeB",
        "colab_type": "code",
        "colab": {
          "base_uri": "https://localhost:8080/",
          "height": 71
        },
        "outputId": "5d4009be-f8ec-49ca-8938-a16d943d17ec"
      },
      "source": [
        "mdata[mdata.성별구분==0]['전업주부스코어'].value_counts()\n",
        "#남자는 전업주부가 없음"
      ],
      "execution_count": null,
      "outputs": [
        {
          "output_type": "execute_result",
          "data": {
            "text/plain": [
              "low    56183\n",
              "Name: 전업주부스코어, dtype: int64"
            ]
          },
          "metadata": {
            "tags": []
          },
          "execution_count": 52
        }
      ]
    },
    {
      "cell_type": "code",
      "metadata": {
        "id": "K9Wq-_-kK6LD",
        "colab_type": "code",
        "colab": {
          "base_uri": "https://localhost:8080/",
          "height": 105
        },
        "outputId": "1f1ff6bd-d24e-4508-8591-82cd0374f62b"
      },
      "source": [
        "mdata[mdata.성별구분==1]['전업주부스코어'].value_counts()\n"
      ],
      "execution_count": null,
      "outputs": [
        {
          "output_type": "execute_result",
          "data": {
            "text/plain": [
              "mid     53075\n",
              "high     6308\n",
              "low      4553\n",
              "Name: 전업주부스코어, dtype: int64"
            ]
          },
          "metadata": {
            "tags": []
          },
          "execution_count": 53
        }
      ]
    },
    {
      "cell_type": "markdown",
      "metadata": {
        "id": "9-HjgWEdN_lQ",
        "colab_type": "text"
      },
      "source": [
        "## 남여 기혼스코어 비율은 유사하다."
      ]
    },
    {
      "cell_type": "code",
      "metadata": {
        "id": "09s8U4Kjdfip",
        "colab_type": "code",
        "colab": {
          "base_uri": "https://localhost:8080/",
          "height": 105
        },
        "outputId": "e2d0a30e-bd49-49d4-de99-a0469230a972"
      },
      "source": [
        "mdata[mdata.성별구분==0]['기혼스코어'].value_counts()"
      ],
      "execution_count": null,
      "outputs": [
        {
          "output_type": "execute_result",
          "data": {
            "text/plain": [
              "high    39377\n",
              "mid     13074\n",
              "low      3732\n",
              "Name: 기혼스코어, dtype: int64"
            ]
          },
          "metadata": {
            "tags": []
          },
          "execution_count": 54
        }
      ]
    },
    {
      "cell_type": "code",
      "metadata": {
        "id": "z5IM9DHmdr-U",
        "colab_type": "code",
        "colab": {
          "base_uri": "https://localhost:8080/",
          "height": 105
        },
        "outputId": "e2ab41bd-4211-45bd-bc1d-b69fc6597538"
      },
      "source": [
        "mdata[mdata.성별구분==1]['기혼스코어'].value_counts()"
      ],
      "execution_count": null,
      "outputs": [
        {
          "output_type": "execute_result",
          "data": {
            "text/plain": [
              "high    43461\n",
              "mid     15261\n",
              "low      5214\n",
              "Name: 기혼스코어, dtype: int64"
            ]
          },
          "metadata": {
            "tags": []
          },
          "execution_count": 55
        }
      ]
    },
    {
      "cell_type": "markdown",
      "metadata": {
        "id": "LwwbTVBNOJxS",
        "colab_type": "text"
      },
      "source": [
        "## 어린 연령대의 남자들은 여자들에 비해 카드사용자 수가 낮다.\n"
      ]
    },
    {
      "cell_type": "code",
      "metadata": {
        "id": "bjvhtYVCe9OQ",
        "colab_type": "code",
        "colab": {
          "base_uri": "https://localhost:8080/",
          "height": 68
        },
        "outputId": "5d8bb36c-d48b-4315-8ad1-4046706737f4"
      },
      "source": [
        "mdata[mdata.연령대=='E']['성별구분'].value_counts()"
      ],
      "execution_count": null,
      "outputs": [
        {
          "output_type": "execute_result",
          "data": {
            "text/plain": [
              "1    9094\n",
              "0    6184\n",
              "Name: 성별구분, dtype: int64"
            ]
          },
          "metadata": {
            "tags": []
          },
          "execution_count": 56
        }
      ]
    },
    {
      "cell_type": "code",
      "metadata": {
        "id": "FExGP0Sxfa-w",
        "colab_type": "code",
        "colab": {
          "base_uri": "https://localhost:8080/",
          "height": 68
        },
        "outputId": "0e739e57-d334-4327-b405-8647953bb8e5"
      },
      "source": [
        "mdata[mdata.연령대=='C']['성별구분'].value_counts()"
      ],
      "execution_count": null,
      "outputs": [
        {
          "output_type": "execute_result",
          "data": {
            "text/plain": [
              "1    8077\n",
              "0    6955\n",
              "Name: 성별구분, dtype: int64"
            ]
          },
          "metadata": {
            "tags": []
          },
          "execution_count": 57
        }
      ]
    },
    {
      "cell_type": "code",
      "metadata": {
        "id": "m8g-6HK_f-I0",
        "colab_type": "code",
        "colab": {
          "base_uri": "https://localhost:8080/",
          "height": 68
        },
        "outputId": "c6d06cdb-1cff-4442-d689-6280b5d55a91"
      },
      "source": [
        "mdata[mdata.연령대=='D']['성별구분'].value_counts()"
      ],
      "execution_count": null,
      "outputs": [
        {
          "output_type": "execute_result",
          "data": {
            "text/plain": [
              "1    10760\n",
              "0     9893\n",
              "Name: 성별구분, dtype: int64"
            ]
          },
          "metadata": {
            "tags": []
          },
          "execution_count": 58
        }
      ]
    },
    {
      "cell_type": "markdown",
      "metadata": {
        "id": "ADnbMKff3Mly",
        "colab_type": "text"
      },
      "source": [
        "- e c 그룹은 차이가 있고 d의 나이대 부터 남여 카드 사용자 비율이 비슷하다."
      ]
    },
    {
      "cell_type": "markdown",
      "metadata": {
        "id": "XFpS1geh-IWP",
        "colab_type": "text"
      },
      "source": [
        "## Category 별 카드 사용자 수\n"
      ]
    },
    {
      "cell_type": "code",
      "metadata": {
        "id": "P7uB3FRAWat6",
        "colab_type": "code",
        "colab": {
          "base_uri": "https://localhost:8080/",
          "height": 204
        },
        "outputId": "8cae9d48-fe03-4222-9e3a-6a1211f2f2af"
      },
      "source": [
        "mdata['Category'].value_counts()\n"
      ],
      "execution_count": null,
      "outputs": [
        {
          "output_type": "execute_result",
          "data": {
            "text/plain": [
              "전문몰        30911\n",
              "할인점        26721\n",
              "디저트        22918\n",
              "오픈마켓/소셜    18766\n",
              "뷰티          5734\n",
              "취미          5469\n",
              "종합몰         4189\n",
              "호텔/숙박       2332\n",
              "항공/여행사      2132\n",
              "면세점          947\n",
              "Name: Category, dtype: int64"
            ]
          },
          "metadata": {
            "tags": []
          },
          "execution_count": 162
        }
      ]
    },
    {
      "cell_type": "markdown",
      "metadata": {
        "id": "26XLDMl03Q_r",
        "colab_type": "text"
      },
      "source": [
        "- 모든 연령대로 분석해 봤을 때 \n",
        "1. 전문몰\n",
        "2. 할인점\n",
        "3. 디저트\n",
        "4. 오픈마켓/소셜\n",
        "- 순으로 카드 소비자 수가 많다. 그 이후의 카테고리에서는 이용자수의 큰 차이가 있다."
      ]
    },
    {
      "cell_type": "markdown",
      "metadata": {
        "id": "qz71Q-3xI7XK",
        "colab_type": "text"
      },
      "source": [
        "###Category 별 남여 카드 사용자 수\n"
      ]
    },
    {
      "cell_type": "code",
      "metadata": {
        "id": "RiV-NvJhnNYe",
        "colab_type": "code",
        "colab": {
          "base_uri": "https://localhost:8080/",
          "height": 204
        },
        "outputId": "f40c3a24-3388-4977-a5fb-c329f8349604"
      },
      "source": [
        "mdata[mdata.성별구분==0]['Category'].value_counts()\n"
      ],
      "execution_count": null,
      "outputs": [
        {
          "output_type": "execute_result",
          "data": {
            "text/plain": [
              "전문몰        14765\n",
              "할인점        12789\n",
              "디저트        10616\n",
              "오픈마켓/소셜     8292\n",
              "취미          3371\n",
              "뷰티          1893\n",
              "호텔/숙박       1538\n",
              "종합몰         1333\n",
              "항공/여행사      1084\n",
              "면세점          502\n",
              "Name: Category, dtype: int64"
            ]
          },
          "metadata": {
            "tags": []
          },
          "execution_count": 59
        }
      ]
    },
    {
      "cell_type": "code",
      "metadata": {
        "id": "15FleQlkKPCk",
        "colab_type": "code",
        "colab": {
          "base_uri": "https://localhost:8080/",
          "height": 204
        },
        "outputId": "1072ab21-aa87-44bd-905b-b2d8256086f6"
      },
      "source": [
        "mdata[mdata.성별구분==1]['Category'].value_counts()"
      ],
      "execution_count": null,
      "outputs": [
        {
          "output_type": "execute_result",
          "data": {
            "text/plain": [
              "전문몰        16146\n",
              "할인점        13932\n",
              "디저트        12302\n",
              "오픈마켓/소셜    10474\n",
              "뷰티          3841\n",
              "종합몰         2856\n",
              "취미          2098\n",
              "항공/여행사      1048\n",
              "호텔/숙박        794\n",
              "면세점          445\n",
              "Name: Category, dtype: int64"
            ]
          },
          "metadata": {
            "tags": []
          },
          "execution_count": 60
        }
      ]
    },
    {
      "cell_type": "markdown",
      "metadata": {
        "id": "rJeewXFL3U17",
        "colab_type": "text"
      },
      "source": [
        "- 상위 카데고리를 제외하고\n",
        "- 남자는 취미 여자는 뷰티에 관심이 많다."
      ]
    },
    {
      "cell_type": "code",
      "metadata": {
        "id": "RwB6lTbeJ08x",
        "colab_type": "code",
        "colab": {}
      },
      "source": [
        ""
      ],
      "execution_count": null,
      "outputs": []
    },
    {
      "cell_type": "markdown",
      "metadata": {
        "id": "m3ZStnId_xWt",
        "colab_type": "text"
      },
      "source": [
        "## E,C,D 연령대의 카드 사용 카데고리 분석\n"
      ]
    },
    {
      "cell_type": "code",
      "metadata": {
        "id": "5JdL6JOJnXkb",
        "colab_type": "code",
        "colab": {
          "base_uri": "https://localhost:8080/",
          "height": 204
        },
        "outputId": "6058a6cf-bded-4afd-f3d1-1019d22abbde"
      },
      "source": [
        "mdata[mdata.연령대=='E']['Category'].value_counts()"
      ],
      "execution_count": null,
      "outputs": [
        {
          "output_type": "execute_result",
          "data": {
            "text/plain": [
              "전문몰        4125\n",
              "디저트        3130\n",
              "오픈마켓/소셜    2672\n",
              "할인점        1686\n",
              "뷰티         1276\n",
              "취미         1025\n",
              "종합몰         499\n",
              "호텔/숙박       391\n",
              "항공/여행사      339\n",
              "면세점         135\n",
              "Name: Category, dtype: int64"
            ]
          },
          "metadata": {
            "tags": []
          },
          "execution_count": 61
        }
      ]
    },
    {
      "cell_type": "code",
      "metadata": {
        "id": "cz17YjrMk8L3",
        "colab_type": "code",
        "colab": {
          "base_uri": "https://localhost:8080/",
          "height": 204
        },
        "outputId": "72d7471c-8e07-471a-b1bb-9df70d793948"
      },
      "source": [
        "mdata[mdata.연령대=='C']['Category'].value_counts()\n"
      ],
      "execution_count": null,
      "outputs": [
        {
          "output_type": "execute_result",
          "data": {
            "text/plain": [
              "전문몰        3992\n",
              "오픈마켓/소셜    2951\n",
              "디저트        2799\n",
              "할인점        2518\n",
              "뷰티          736\n",
              "종합몰         720\n",
              "취미          579\n",
              "호텔/숙박       305\n",
              "항공/여행사      292\n",
              "면세점         140\n",
              "Name: Category, dtype: int64"
            ]
          },
          "metadata": {
            "tags": []
          },
          "execution_count": 62
        }
      ]
    },
    {
      "cell_type": "code",
      "metadata": {
        "id": "-EjRyzU9ngCs",
        "colab_type": "code",
        "colab": {
          "base_uri": "https://localhost:8080/",
          "height": 204
        },
        "outputId": "3770b673-ab95-411e-90bb-961257dff7d5"
      },
      "source": [
        "mdata[mdata.연령대=='D']['Category'].value_counts()"
      ],
      "execution_count": null,
      "outputs": [
        {
          "output_type": "execute_result",
          "data": {
            "text/plain": [
              "전문몰        5376\n",
              "할인점        4036\n",
              "오픈마켓/소셜    4016\n",
              "디저트        3802\n",
              "종합몰        1055\n",
              "뷰티          733\n",
              "취미          728\n",
              "호텔/숙박       392\n",
              "항공/여행사      372\n",
              "면세점         143\n",
              "Name: Category, dtype: int64"
            ]
          },
          "metadata": {
            "tags": []
          },
          "execution_count": 63
        }
      ]
    },
    {
      "cell_type": "markdown",
      "metadata": {
        "id": "v_NwNh-33YTO",
        "colab_type": "text"
      },
      "source": [
        "- E 그룹은 (가장 낮은 연령대의 사람들) 1-4위까지 카데고리 순위는 변동이 없지만\n",
        "- 뷰티부분의 카드 사용자가 힐인점과 유사할 정도로 높고\n",
        "- 디저트에 카드 사용량이 다른 연령대와 상대적으로 높다."
      ]
    },
    {
      "cell_type": "markdown",
      "metadata": {
        "id": "jqjtSS7MBiZh",
        "colab_type": "text"
      },
      "source": [
        "## E연령대의 남여 카드 사용 카데고리 순위 비교\n",
        "- E연령대 twenty\n",
        "- 상위 4개의 카데고리는 동일하나 5위권의 카데고리가 4위와 유사할 정도로 E연령대의 여자들의 뷰티 카데고리 카드사용량이 높고 남자들은 취미 카데고리의 카드 사용량이 높다.\n",
        "\n"
      ]
    },
    {
      "cell_type": "code",
      "metadata": {
        "id": "-jj5V5e8ppSi",
        "colab_type": "code",
        "colab": {}
      },
      "source": [
        "twenty=mdata[mdata.연령대=='E']\n"
      ],
      "execution_count": null,
      "outputs": []
    },
    {
      "cell_type": "code",
      "metadata": {
        "id": "DzwEv2JSrTr0",
        "colab_type": "code",
        "colab": {
          "base_uri": "https://localhost:8080/",
          "height": 204
        },
        "outputId": "d7e10723-f573-4eca-b25d-99073e37e0c2"
      },
      "source": [
        "twenty[twenty.성별구분==0]['Category'].value_counts()"
      ],
      "execution_count": null,
      "outputs": [
        {
          "output_type": "execute_result",
          "data": {
            "text/plain": [
              "전문몰        1742\n",
              "디저트        1294\n",
              "오픈마켓/소셜     945\n",
              "할인점         702\n",
              "취미          658\n",
              "뷰티          320\n",
              "호텔/숙박       243\n",
              "항공/여행사      122\n",
              "종합몰         106\n",
              "면세점          52\n",
              "Name: Category, dtype: int64"
            ]
          },
          "metadata": {
            "tags": []
          },
          "execution_count": 65
        }
      ]
    },
    {
      "cell_type": "code",
      "metadata": {
        "id": "vWOfSSACD6A9",
        "colab_type": "code",
        "colab": {
          "base_uri": "https://localhost:8080/",
          "height": 204
        },
        "outputId": "d3258716-1024-489c-97c4-148dfd65094f"
      },
      "source": [
        "twenty[twenty.성별구분==1]['Category'].value_counts()"
      ],
      "execution_count": null,
      "outputs": [
        {
          "output_type": "execute_result",
          "data": {
            "text/plain": [
              "전문몰        2383\n",
              "디저트        1836\n",
              "오픈마켓/소셜    1727\n",
              "할인점         984\n",
              "뷰티          956\n",
              "종합몰         393\n",
              "취미          367\n",
              "항공/여행사      217\n",
              "호텔/숙박       148\n",
              "면세점          83\n",
              "Name: Category, dtype: int64"
            ]
          },
          "metadata": {
            "tags": []
          },
          "execution_count": 66
        }
      ]
    },
    {
      "cell_type": "markdown",
      "metadata": {
        "id": "yhpWeLKK3c83",
        "colab_type": "text"
      },
      "source": [
        "- 상위 4개의 카데고리는 동일하나 5위권의 카데고리가 4위와 유사할 정도로 E연령대의 여자들의 뷰티 카데고리 카드사용량이 높고 남자들은 취미 카데고리의 카드 사용량이 높다.\n",
        "\n"
      ]
    },
    {
      "cell_type": "markdown",
      "metadata": {
        "id": "zh8WTqwHGj82",
        "colab_type": "text"
      },
      "source": [
        "## C연령대의 남여 카드 사용 카데고리 순위 비교\n"
      ]
    },
    {
      "cell_type": "code",
      "metadata": {
        "id": "w6b4wUN2GsYE",
        "colab_type": "code",
        "colab": {}
      },
      "source": [
        "twenty2=mdata[mdata.연령대=='C']\n"
      ],
      "execution_count": null,
      "outputs": []
    },
    {
      "cell_type": "code",
      "metadata": {
        "id": "cQk7eVwZGifk",
        "colab_type": "code",
        "colab": {
          "base_uri": "https://localhost:8080/",
          "height": 204
        },
        "outputId": "16b9b4d0-022c-4dea-b6c0-435fcfb16110"
      },
      "source": [
        "twenty2[twenty2.성별구분==0]['Category'].value_counts()"
      ],
      "execution_count": null,
      "outputs": [
        {
          "output_type": "execute_result",
          "data": {
            "text/plain": [
              "전문몰        1891\n",
              "디저트        1339\n",
              "오픈마켓/소셜    1280\n",
              "할인점        1205\n",
              "취미          395\n",
              "뷰티          260\n",
              "종합몰         197\n",
              "호텔/숙박       191\n",
              "항공/여행사      122\n",
              "면세점          75\n",
              "Name: Category, dtype: int64"
            ]
          },
          "metadata": {
            "tags": []
          },
          "execution_count": 68
        }
      ]
    },
    {
      "cell_type": "code",
      "metadata": {
        "id": "1HXqYwx5Go-a",
        "colab_type": "code",
        "colab": {
          "base_uri": "https://localhost:8080/",
          "height": 204
        },
        "outputId": "f8f16a51-5e02-4e00-90bb-d47a46d94e16"
      },
      "source": [
        "twenty2[twenty2.성별구분==1]['Category'].value_counts()"
      ],
      "execution_count": null,
      "outputs": [
        {
          "output_type": "execute_result",
          "data": {
            "text/plain": [
              "전문몰        2101\n",
              "오픈마켓/소셜    1671\n",
              "디저트        1460\n",
              "할인점        1313\n",
              "종합몰         523\n",
              "뷰티          476\n",
              "취미          184\n",
              "항공/여행사      170\n",
              "호텔/숙박       114\n",
              "면세점          65\n",
              "Name: Category, dtype: int64"
            ]
          },
          "metadata": {
            "tags": []
          },
          "execution_count": 69
        }
      ]
    },
    {
      "cell_type": "markdown",
      "metadata": {
        "id": "2ELg8bER3le6",
        "colab_type": "text"
      },
      "source": [
        "- 1-4위의 카데고리는 같고 하위 카데고리의 순위는 차이가 있지만 \n",
        "- 상위 카테고리 기준으로 봤을 때 전체 연령대와 큰 차이가 없다."
      ]
    },
    {
      "cell_type": "markdown",
      "metadata": {
        "id": "Bydu_lF4HLW3",
        "colab_type": "text"
      },
      "source": [
        "## D 연령대의 남여 카드 사용 카데고리 순위 비교"
      ]
    },
    {
      "cell_type": "code",
      "metadata": {
        "id": "1zo9jbmRHWVg",
        "colab_type": "code",
        "colab": {}
      },
      "source": [
        "twenty3=mdata[mdata.연령대=='C']\n"
      ],
      "execution_count": null,
      "outputs": []
    },
    {
      "cell_type": "code",
      "metadata": {
        "id": "B6gD8EwdHZem",
        "colab_type": "code",
        "colab": {
          "base_uri": "https://localhost:8080/",
          "height": 204
        },
        "outputId": "1d242116-92b8-400a-9327-5003932d0f04"
      },
      "source": [
        "twenty3[twenty3.성별구분==0]['Category'].value_counts()"
      ],
      "execution_count": null,
      "outputs": [
        {
          "output_type": "execute_result",
          "data": {
            "text/plain": [
              "전문몰        1891\n",
              "디저트        1339\n",
              "오픈마켓/소셜    1280\n",
              "할인점        1205\n",
              "취미          395\n",
              "뷰티          260\n",
              "종합몰         197\n",
              "호텔/숙박       191\n",
              "항공/여행사      122\n",
              "면세점          75\n",
              "Name: Category, dtype: int64"
            ]
          },
          "metadata": {
            "tags": []
          },
          "execution_count": 73
        }
      ]
    },
    {
      "cell_type": "code",
      "metadata": {
        "id": "wyLjiPauHZSR",
        "colab_type": "code",
        "colab": {
          "base_uri": "https://localhost:8080/",
          "height": 204
        },
        "outputId": "8236949e-84a4-448b-cbfc-304ff7bce9da"
      },
      "source": [
        "twenty3[twenty3.성별구분==1]['Category'].value_counts()"
      ],
      "execution_count": null,
      "outputs": [
        {
          "output_type": "execute_result",
          "data": {
            "text/plain": [
              "전문몰        2101\n",
              "오픈마켓/소셜    1671\n",
              "디저트        1460\n",
              "할인점        1313\n",
              "종합몰         523\n",
              "뷰티          476\n",
              "취미          184\n",
              "항공/여행사      170\n",
              "호텔/숙박       114\n",
              "면세점          65\n",
              "Name: Category, dtype: int64"
            ]
          },
          "metadata": {
            "tags": []
          },
          "execution_count": 74
        }
      ]
    },
    {
      "cell_type": "markdown",
      "metadata": {
        "id": "xdHipMf83oBx",
        "colab_type": "text"
      },
      "source": [
        "- 1-4위의 카데고리는 같고 하위 카데고리의 순위는 차이가 있지만 \n",
        "- 상위 카테고리 기준으로 봤을 때 전체 연령대와 큰 차이가 없다."
      ]
    },
    {
      "cell_type": "code",
      "metadata": {
        "id": "CK5SKlyOzQvY",
        "colab_type": "code",
        "colab": {}
      },
      "source": [
        "import matplotlib.font_manager as fm\n",
        "plt.rc('font', family='NanumBarunGothic')"
      ],
      "execution_count": null,
      "outputs": []
    },
    {
      "cell_type": "markdown",
      "metadata": {
        "id": "HI-kjdnp6lLZ",
        "colab_type": "text"
      },
      "source": [
        "## 데이터 시각화\n"
      ]
    },
    {
      "cell_type": "markdown",
      "metadata": {
        "id": "40gVdYix6n7V",
        "colab_type": "text"
      },
      "source": [
        "### 연령대 구분\n"
      ]
    },
    {
      "cell_type": "code",
      "metadata": {
        "id": "m57dnTnYyskt",
        "colab_type": "code",
        "colab": {
          "base_uri": "https://localhost:8080/",
          "height": 386
        },
        "outputId": "d68113f1-4f62-40b5-d706-62da5875266e"
      },
      "source": [
        "sns.catplot(x='연령대' ,hue=\"유아자녀스코어\", kind=\"count\", data=unmarried)"
      ],
      "execution_count": null,
      "outputs": [
        {
          "output_type": "execute_result",
          "data": {
            "text/plain": [
              "<seaborn.axisgrid.FacetGrid at 0x7f5f64c38208>"
            ]
          },
          "metadata": {
            "tags": []
          },
          "execution_count": 76
        },
        {
          "output_type": "display_data",
          "data": {
            "image/png": "[encoded data removed]",
            "text/plain": [
              "<Figure size 430.125x360 with 1 Axes>"
            ]
          },
          "metadata": {
            "tags": [],
            "needs_background": "light"
          }
        }
      ]
    },
    {
      "cell_type": "code",
      "metadata": {
        "id": "xMt31Y-1gV85",
        "colab_type": "code",
        "colab": {
          "base_uri": "https://localhost:8080/",
          "height": 386
        },
        "outputId": "6328fd71-d110-4bbe-a691-f890ea81b212"
      },
      "source": [
        "sns.catplot(x='연령대' ,hue=\"초등학생자녀스코어\", kind=\"count\", data=unmarried)"
      ],
      "execution_count": null,
      "outputs": [
        {
          "output_type": "execute_result",
          "data": {
            "text/plain": [
              "<seaborn.axisgrid.FacetGrid at 0x7f5f64b6aa20>"
            ]
          },
          "metadata": {
            "tags": []
          },
          "execution_count": 77
        },
        {
          "output_type": "display_data",
          "data": {
            "image/png": "[encoded data removed]",
            "text/plain": [
              "<Figure size 447.875x360 with 1 Axes>"
            ]
          },
          "metadata": {
            "tags": [],
            "needs_background": "light"
          }
        }
      ]
    },
    {
      "cell_type": "code",
      "metadata": {
        "id": "1iYdutbZ6e39",
        "colab_type": "code",
        "colab": {
          "base_uri": "https://localhost:8080/",
          "height": 386
        },
        "outputId": "ee4bded7-678b-4ec0-8874-50af080c435b"
      },
      "source": [
        "sns.catplot(x='연령대' ,hue=\"중고생자녀스코어\", kind=\"count\", data=unmarried)"
      ],
      "execution_count": null,
      "outputs": [
        {
          "output_type": "execute_result",
          "data": {
            "text/plain": [
              "<seaborn.axisgrid.FacetGrid at 0x7f5f64b6ab38>"
            ]
          },
          "metadata": {
            "tags": []
          },
          "execution_count": 78
        },
        {
          "output_type": "display_data",
          "data": {
            "image/png": "[encoded data removed]",
            "text/plain": [
              "<Figure size 439x360 with 1 Axes>"
            ]
          },
          "metadata": {
            "tags": [],
            "needs_background": "light"
          }
        }
      ]
    },
    {
      "cell_type": "markdown",
      "metadata": {
        "id": "1lpoR55t4AG1",
        "colab_type": "text"
      },
      "source": [
        "- 미혼가능성이 low인 연령대는 E 와 C 그룹이 있는데 E 그룹이 대다수를 차지 하고 있다. \n",
        "- 미혼일 가능성이 있을 수록 낮은 나이라고 봤을 때 E 그룹이 가장 낮은 연령대 그 다음 낮은 그룹을 C으로 볼 수 있다. "
      ]
    },
    {
      "cell_type": "code",
      "metadata": {
        "id": "Zmhem27383EH",
        "colab_type": "code",
        "colab": {
          "base_uri": "https://localhost:8080/",
          "height": 401
        },
        "outputId": "bc871be1-d1b7-44f9-9edb-0ebfe17aa1ff"
      },
      "source": [
        "label=['C','D','E']\n",
        "plt.pie(ambiguous['연령대'].value_counts(), labels=label, autopct='%.1f%%')"
      ],
      "execution_count": null,
      "outputs": [
        {
          "output_type": "execute_result",
          "data": {
            "text/plain": [
              "([<matplotlib.patches.Wedge at 0x7f5f59a65c18>,\n",
              "  <matplotlib.patches.Wedge at 0x7f5f59a72400>,\n",
              "  <matplotlib.patches.Wedge at 0x7f5f59a72b70>],\n",
              " [Text(0.2397254602637161, 1.0735602934634596, 'C'),\n",
              "  Text(-0.8305071373275283, -0.721289050830549, 'D'),\n",
              "  Text(0.8849463858854418, -0.653352809826586, 'E')],\n",
              " [Text(0.13075934196202696, 0.5855783418891597, '43.0%'),\n",
              "  Text(-0.4530038930877427, -0.39343039136211755, '36.7%'),\n",
              "  Text(0.4826980286647864, -0.35637425990541044, '20.2%')])"
            ]
          },
          "metadata": {
            "tags": []
          },
          "execution_count": 105
        },
        {
          "output_type": "display_data",
          "data": {
            "image/png": "[encoded data removed]",
            "text/plain": [
              "<Figure size 432x288 with 1 Axes>"
            ]
          },
          "metadata": {
            "tags": []
          }
        }
      ]
    },
    {
      "cell_type": "markdown",
      "metadata": {
        "id": "imo1HN0zIYch",
        "colab_type": "text"
      },
      "source": [
        "- 기혼 가능성이 mid인 연령대는 C,D,E그룹이 있다.\n",
        "- 기혼 가능성이 low인 데이터와 비교해 봤을 때 C,D,E 그룹이 하위 연령대 이고 중고생 자녀 스코어를 보면 D 그룹만 mid와 high 스코어를 가지고 있기 때문에 그 중 D그룹이 가장 연령대가 높다고 볼 수 있다. (E < C < D)"
      ]
    },
    {
      "cell_type": "code",
      "metadata": {
        "id": "It5I047ZKa7z",
        "colab_type": "code",
        "colab": {
          "base_uri": "https://localhost:8080/",
          "height": 386
        },
        "outputId": "9b9c9e51-6cdd-4d7f-c5b2-a9c48e047de4"
      },
      "source": [
        "sns.catplot(x='연령대' ,hue=\"중고생자녀스코어\", kind=\"count\", data=ambiguous, hue_order=['low','mid','high'])"
      ],
      "execution_count": null,
      "outputs": [
        {
          "output_type": "execute_result",
          "data": {
            "text/plain": [
              "<seaborn.axisgrid.FacetGrid at 0x7f5f598e78d0>"
            ]
          },
          "metadata": {
            "tags": []
          },
          "execution_count": 110
        },
        {
          "output_type": "display_data",
          "data": {
            "image/png": "[encoded data removed]",
            "text/plain": [
              "<Figure size 439x360 with 1 Axes>"
            ]
          },
          "metadata": {
            "tags": [],
            "needs_background": "light"
          }
        }
      ]
    },
    {
      "cell_type": "code",
      "metadata": {
        "id": "p7aYolT4LzSh",
        "colab_type": "code",
        "colab": {
          "base_uri": "https://localhost:8080/",
          "height": 386
        },
        "outputId": "af2b83e4-f637-4a6e-e46e-aac8c7b9eb51"
      },
      "source": [
        "sns.catplot(x='연령대' ,hue=\"대학생자녀스코어\", kind=\"count\", data=married,\n",
        "            hue_order=['low','mid','high'],order=['D','C','E','A','B','F','G','H'])"
      ],
      "execution_count": null,
      "outputs": [
        {
          "output_type": "execute_result",
          "data": {
            "text/plain": [
              "<seaborn.axisgrid.FacetGrid at 0x7f5f599ae908>"
            ]
          },
          "metadata": {
            "tags": []
          },
          "execution_count": 125
        },
        {
          "output_type": "display_data",
          "data": {
            "image/png": "[encoded data removed]",
            "text/plain": [
              "<Figure size 439x360 with 1 Axes>"
            ]
          },
          "metadata": {
            "tags": [],
            "needs_background": "light"
          }
        }
      ]
    },
    {
      "cell_type": "markdown",
      "metadata": {
        "id": "qrMrgZvpMtjx",
        "colab_type": "text"
      },
      "source": [
        "- 기혼 가능성이 높은 데이터 중 대학생 자녀 스코어에 mid이상을 가진 C,D,E 그룹이 없다. = 가장 낮은 연령대"
      ]
    },
    {
      "cell_type": "code",
      "metadata": {
        "id": "VAxltV3hU0pH",
        "colab_type": "code",
        "colab": {
          "base_uri": "https://localhost:8080/",
          "height": 758
        },
        "outputId": "5eacf4d2-4c44-45a7-f63f-06db1d5a2d5f"
      },
      "source": [
        "a=['전문몰','할인점','디저트','오픈마켓/소셜','a','b','c','d','e','f']\n",
        "plt.pie(mdata['Category'].value_counts(), labels=a, autopct='%.1f%%')"
      ],
      "execution_count": null,
      "outputs": [
        {
          "output_type": "execute_result",
          "data": {
            "text/plain": [
              "([<matplotlib.patches.Wedge at 0x7f5f58941080>,\n",
              "  <matplotlib.patches.Wedge at 0x7f5f58941828>,\n",
              "  <matplotlib.patches.Wedge at 0x7f5f58941eb8>,\n",
              "  <matplotlib.patches.Wedge at 0x7f5f5894a5c0>,\n",
              "  <matplotlib.patches.Wedge at 0x7f5f5894ac88>,\n",
              "  <matplotlib.patches.Wedge at 0x7f5f58956390>,\n",
              "  <matplotlib.patches.Wedge at 0x7f5f58956a58>,\n",
              "  <matplotlib.patches.Wedge at 0x7f5f58963160>,\n",
              "  <matplotlib.patches.Wedge at 0x7f5f58963828>,\n",
              "  <matplotlib.patches.Wedge at 0x7f5f58963ef0>],\n",
              " [Text(0.7596851733881006, 0.7955365719652941, '전문몰'),\n",
              "  Text(-0.745734617447617, 0.8086283944682233, '할인점'),\n",
              "  Text(-0.9795168180058318, -0.5005465045764783, '디저트'),\n",
              "  Text(-0.008990413933564124, -1.0999632595942936, '오픈마켓/소셜'),\n",
              "  Text(0.6503678938166456, -0.8871423801693281, 'a'),\n",
              "  Text(0.8788819949504405, -0.6614880489864757, 'b'),\n",
              "  Text(1.016310119784569, -0.4208488332209977, 'c'),\n",
              "  Text(1.07299342703693, -0.2422500888246372, 'd'),\n",
              "  Text(1.0939076373041, -0.1156117686386723, 'e'),\n",
              "  Text(1.0996626203844004, -0.027241903922344688, 'f')],\n",
              " [Text(0.4143737309389639, 0.4339290392537968, '25.7%'),\n",
              "  Text(-0.40676433678960927, 0.44107003334630357, '22.2%'),\n",
              "  Text(-0.5342819007304537, -0.27302536613262446, '19.1%'),\n",
              "  Text(-0.0049038621455804315, -0.5999799597787056, '15.6%'),\n",
              "  Text(0.35474612389998844, -0.48389584372872435, '4.8%'),\n",
              "  Text(0.4793901790638766, -0.3608116630835322, '4.6%'),\n",
              "  Text(0.5543509744279467, -0.22955390902963507, '3.5%'),\n",
              "  Text(0.5852691420201436, -0.13213641208616572, '1.9%'),\n",
              "  Text(0.5966768930749635, -0.06306096471200306, '1.8%'),\n",
              "  Text(0.5998159747551275, -0.01485922032127892, '0.8%')])"
            ]
          },
          "metadata": {
            "tags": []
          },
          "execution_count": 169
        },
        {
          "output_type": "display_data",
          "data": {
            "image/png": "[encoded data removed]",
            "text/plain": [
              "<Figure size 432x288 with 1 Axes>"
            ]
          },
          "metadata": {
            "tags": []
          }
        }
      ]
    },
    {
      "cell_type": "markdown",
      "metadata": {
        "id": "2kU5rqueXOmQ",
        "colab_type": "text"
      },
      "source": [
        "- 전체 연령대로 봤을때 상위 4개의 \n",
        "- 전문몰, 할인점,디저트,오픈마켓/소셜 \n",
        "- 카테고리의 카드사용자의 비율이 하위 카테고리 보다 앞도적으로 높다."
      ]
    },
    {
      "cell_type": "markdown",
      "metadata": {
        "id": "DkeWwC1xQGxl",
        "colab_type": "text"
      },
      "source": [
        "- 가장 낮은 연령대의 E, C, D를 비교해보면 상위 4개의 카데고리의 카드 사용자 비율은 유사하다."
      ]
    },
    {
      "cell_type": "code",
      "metadata": {
        "id": "rlCxCJ90OmM2",
        "colab_type": "code",
        "colab": {}
      },
      "source": [
        "low_age=mdata.loc[mdata['연령대'].isin(['E','C','D']),:]"
      ],
      "execution_count": null,
      "outputs": []
    },
    {
      "cell_type": "code",
      "metadata": {
        "id": "DO3EUQGd1-mr",
        "colab_type": "code",
        "colab": {
          "base_uri": "https://localhost:8080/",
          "height": 459
        },
        "outputId": "419b7461-ca1f-4dbc-d9f8-6ce83bc5494c"
      },
      "source": [
        "plt.figure(figsize=(10, 7))\n",
        "sns.countplot(data=low_age, x='Category', hue='연령대',order = ['전문몰','오픈마켓/소셜',\n",
        "                                                            '디저트','할인점','뷰티','취미','종합몰',\n",
        "                                                            '호텔/숙박','항공/여행사','면세점'])"
      ],
      "execution_count": null,
      "outputs": [
        {
          "output_type": "execute_result",
          "data": {
            "text/plain": [
              "<matplotlib.axes._subplots.AxesSubplot at 0x7f5f64c23278>"
            ]
          },
          "metadata": {
            "tags": []
          },
          "execution_count": 137
        },
        {
          "output_type": "display_data",
          "data": {
            "image/png": "[encoded data removed]",
            "text/plain": [
              "<Figure size 720x504 with 1 Axes>"
            ]
          },
          "metadata": {
            "tags": [],
            "needs_background": "light"
          }
        }
      ]
    },
    {
      "cell_type": "code",
      "metadata": {
        "id": "AACEdOEZA6rh",
        "colab_type": "code",
        "colab": {
          "base_uri": "https://localhost:8080/",
          "height": 459
        },
        "outputId": "dfd58a74-0fa6-48a4-d506-54e88ec8b317"
      },
      "source": [
        "plt.figure(figsize=(10, 7))\n",
        "sns.countplot(data=low_age, x='성별구분', hue='연령대',hue_order=['E','C','D',])"
      ],
      "execution_count": null,
      "outputs": [
        {
          "output_type": "execute_result",
          "data": {
            "text/plain": [
              "<matplotlib.axes._subplots.AxesSubplot at 0x7f5f59370ac8>"
            ]
          },
          "metadata": {
            "tags": []
          },
          "execution_count": 140
        },
        {
          "output_type": "display_data",
          "data": {
            "image/png": "[encoded data removed]",
            "text/plain": [
              "<Figure size 720x504 with 1 Axes>"
            ]
          },
          "metadata": {
            "tags": [],
            "needs_background": "light"
          }
        }
      ]
    },
    {
      "cell_type": "markdown",
      "metadata": {
        "id": "IofJDrTgRBLf",
        "colab_type": "text"
      },
      "source": [
        "- 가장 낮은 연령대의 남자와 여자에 카드 사용자 수에는 차이가 있다.\n",
        "- E그룹이 가장 낮은 나이대로 봤을때 여자의 카드 사용자 비율이 높았다 C그룹으로 갈수록 비슷 해진다."
      ]
    },
    {
      "cell_type": "code",
      "metadata": {
        "id": "9wqN7rbqLQT1",
        "colab_type": "code",
        "colab": {
          "base_uri": "https://localhost:8080/",
          "height": 463
        },
        "outputId": "62eb5d1d-d529-4389-bf33-148b8bcfc5f3"
      },
      "source": [
        "plt.figure(figsize=(10, 7))\n",
        "sns.countplot(data=twenty, x='Category', hue='성별구분',order = ['전문몰','디저트','오픈마켓/소셜',\n",
        "                                                            '할인점','뷰티','취미','종합몰',\n",
        "                                                            '호텔/숙박','항공/여행사','면세점'])"
      ],
      "execution_count": null,
      "outputs": [
        {
          "output_type": "execute_result",
          "data": {
            "text/plain": [
              "<matplotlib.axes._subplots.AxesSubplot at 0x7f5f593caa90>"
            ]
          },
          "metadata": {
            "tags": []
          },
          "execution_count": 146
        },
        {
          "output_type": "display_data",
          "data": {
            "image/png": "[encoded data removed]",
            "text/plain": [
              "<Figure size 720x504 with 1 Axes>"
            ]
          },
          "metadata": {
            "tags": [],
            "needs_background": "light"
          }
        }
      ]
    },
    {
      "cell_type": "markdown",
      "metadata": {
        "id": "hLHRhA81TTkf",
        "colab_type": "text"
      },
      "source": [
        "- E 연령대의 카드사용자는 상위 그룹은 비슷하지만 \n",
        "- 여자들은 뷰티, 남자들은 취미의 카드사용자가 높다.\n"
      ]
    },
    {
      "cell_type": "code",
      "metadata": {
        "id": "Iup4gMkKSJ6R",
        "colab_type": "code",
        "colab": {
          "base_uri": "https://localhost:8080/",
          "height": 459
        },
        "outputId": "29b70039-4e1f-470f-fb88-cb67c1f9f70d"
      },
      "source": [
        "plt.figure(figsize=(10, 7))\n",
        "sns.countplot(data=twenty2, x='Category', hue='성별구분',order = ['전문몰','디저트','오픈마켓/소셜',\n",
        "                                                            '할인점','뷰티','취미','종합몰',\n",
        "                                                            '호텔/숙박','항공/여행사','면세점'])"
      ],
      "execution_count": null,
      "outputs": [
        {
          "output_type": "execute_result",
          "data": {
            "text/plain": [
              "<matplotlib.axes._subplots.AxesSubplot at 0x7f5f59b4e6d8>"
            ]
          },
          "metadata": {
            "tags": []
          },
          "execution_count": 148
        },
        {
          "output_type": "display_data",
          "data": {
            "image/png": "[encoded data removed]",
            "text/plain": [
              "<Figure size 720x504 with 1 Axes>"
            ]
          },
          "metadata": {
            "tags": [],
            "needs_background": "light"
          }
        }
      ]
    },
    {
      "cell_type": "code",
      "metadata": {
        "id": "_nBD1-goUY6q",
        "colab_type": "code",
        "colab": {
          "base_uri": "https://localhost:8080/",
          "height": 459
        },
        "outputId": "36665061-6d11-465f-acd1-981c003666ef"
      },
      "source": [
        "plt.figure(figsize=(10, 7))\n",
        "sns.countplot(data=twenty3, x='Category', hue='성별구분',order = ['전문몰','디저트','오픈마켓/소셜',\n",
        "                                                            '할인점','뷰티','취미','종합몰',\n",
        "                                                            '호텔/숙박','항공/여행사','면세점'])"
      ],
      "execution_count": null,
      "outputs": [
        {
          "output_type": "execute_result",
          "data": {
            "text/plain": [
              "<matplotlib.axes._subplots.AxesSubplot at 0x7f5f58f866a0>"
            ]
          },
          "metadata": {
            "tags": []
          },
          "execution_count": 147
        },
        {
          "output_type": "display_data",
          "data": {
            "image/png": "[encoded data removed]",
            "text/plain": [
              "<Figure size 720x504 with 1 Axes>"
            ]
          },
          "metadata": {
            "tags": [],
            "needs_background": "light"
          }
        }
      ]
    },
    {
      "cell_type": "markdown",
      "metadata": {
        "id": "ncnVnkk1TSmF",
        "colab_type": "text"
      },
      "source": [
        "- E그룹을 제외한 나머지 C,D 그룹은 전체 연령대와 비슷한 모습의 그래프를 보인다."
      ]
    }
  ]
}